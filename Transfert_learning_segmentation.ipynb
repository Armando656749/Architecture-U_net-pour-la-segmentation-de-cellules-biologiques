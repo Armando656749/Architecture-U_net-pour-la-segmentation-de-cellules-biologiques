{
 "cells": [
  {
   "cell_type": "code",
   "execution_count": 1,
   "metadata": {},
   "outputs": [
    {
     "ename": "ModuleNotFoundError",
     "evalue": "No module named 'segmentation_models'",
     "output_type": "error",
     "traceback": [
      "\u001b[1;31m---------------------------------------------------------------------------\u001b[0m",
      "\u001b[1;31mModuleNotFoundError\u001b[0m                       Traceback (most recent call last)",
      "\u001b[1;32m<ipython-input-1-95926c7db055>\u001b[0m in \u001b[0;36m<module>\u001b[1;34m\u001b[0m\n\u001b[1;32m----> 1\u001b[1;33m \u001b[1;32mfrom\u001b[0m \u001b[0msegmentation_models\u001b[0m \u001b[1;32mimport\u001b[0m \u001b[0mUnet\u001b[0m\u001b[1;33m\u001b[0m\u001b[1;33m\u001b[0m\u001b[0m\n\u001b[0m",
      "\u001b[1;31mModuleNotFoundError\u001b[0m: No module named 'segmentation_models'"
     ]
    }
   ],
   "source": [
    "from segmentation_models import Unet"
   ]
  },
  {
   "cell_type": "code",
   "execution_count": null,
   "metadata": {},
   "outputs": [],
   "source": [
    "model = Unet()"
   ]
  },
  {
   "cell_type": "code",
   "execution_count": null,
   "metadata": {},
   "outputs": [],
   "source": [
    "# customize number of output classes and input shape to work on images of any size\n",
    "model = Unet('resnet34', encoder_weights='imagenet')\n",
    "\n",
    "#Change number of output classes in the model\n",
    "model = Unet('resnet34', classes=3, activation='softmax')\n",
    "\n",
    "#Change input shape of the model\n",
    "model = Unet('resnet34', input_shape=(None, None, 42, encoder_weights=None))"
   ]
  },
  {
   "cell_type": "code",
   "execution_count": null,
   "metadata": {},
   "outputs": [],
   "source": [
    "# Choose to nony train decoder weights by fixing pre-trained encoder weights\n",
    "\n",
    "from segmentation_models import Unet\n",
    "from segmentation_models.utils import set_trainable\n",
    "\n",
    "model = Unet(backbone_name='resnet34', encoder_weights='imagenet', encoder_freeze=True)\n",
    "model.compile('Adam','binary_crossentropy',['binary_accuracy'])"
   ]
  },
  {
   "cell_type": "code",
   "execution_count": null,
   "metadata": {},
   "outputs": [],
   "source": []
  },
  {
   "cell_type": "markdown",
   "metadata": {},
   "source": [
    "# Bon a savoir: \n",
    "### **-** The VGG16 is a convolutional neural network modl\n",
    "### **-** The model achieves 92.7% top-5 test accuracy in ImageNet, which is a dataset of over 14 million images belonging to 1000 classes.\n",
    "### **-** VGG16 was trained for weeks and used NVIDIA Titan Black GPU's."
   ]
  },
  {
   "cell_type": "markdown",
   "metadata": {},
   "source": []
  }
 ],
 "metadata": {
  "interpreter": {
   "hash": "2e445826141743d2328c429c0d8421f34c4092e5e2d94bf26a674c5cd83332ce"
  },
  "kernelspec": {
   "display_name": "Python 3.8.8 ('base')",
   "language": "python",
   "name": "python3"
  },
  "language_info": {
   "codemirror_mode": {
    "name": "ipython",
    "version": 3
   },
   "file_extension": ".py",
   "mimetype": "text/x-python",
   "name": "python",
   "nbconvert_exporter": "python",
   "pygments_lexer": "ipython3",
   "version": "3.8.8"
  },
  "orig_nbformat": 4
 },
 "nbformat": 4,
 "nbformat_minor": 2
}
